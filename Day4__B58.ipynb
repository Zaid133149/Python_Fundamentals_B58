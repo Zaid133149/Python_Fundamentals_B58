{
 "cells": [
  {
   "cell_type": "code",
   "execution_count": null,
   "id": "c479106e",
   "metadata": {},
   "outputs": [],
   "source": [
    "introduction to list datatype :"
   ]
  },
  {
   "cell_type": "code",
   "execution_count": null,
   "id": "50ffd7b6",
   "metadata": {},
   "outputs": [],
   "source": [
    "Definition : A list is a collection of items declared in a particular order.\n",
    "Classification : It is classified as a mutable datatype ( Flexable - which we can edit adn alter )\n",
    "How to declare the list …. ? []"
   ]
  },
  {
   "cell_type": "code",
   "execution_count": null,
   "id": "0879150d",
   "metadata": {},
   "outputs": [],
   "source": []
  },
  {
   "cell_type": "code",
   "execution_count": 4,
   "id": "aa0c6ab2",
   "metadata": {},
   "outputs": [],
   "source": [
    "students = ['harish' ,'sandeep','rasika','sanuba','pavitra','nusrat']"
   ]
  },
  {
   "cell_type": "code",
   "execution_count": 5,
   "id": "d9b2c4ff",
   "metadata": {},
   "outputs": [
    {
     "name": "stdout",
     "output_type": "stream",
     "text": [
      "['harish', 'sandeep', 'rasika', 'sanuba', 'pavitra', 'nusrat']\n"
     ]
    }
   ],
   "source": [
    "print(students)"
   ]
  },
  {
   "cell_type": "code",
   "execution_count": 6,
   "id": "042a75c1",
   "metadata": {},
   "outputs": [
    {
     "data": {
      "text/plain": [
       "list"
      ]
     },
     "execution_count": 6,
     "metadata": {},
     "output_type": "execute_result"
    }
   ],
   "source": [
    "type(students)"
   ]
  },
  {
   "cell_type": "code",
   "execution_count": null,
   "id": "9b2a73f6",
   "metadata": {},
   "outputs": [],
   "source": [
    "how to access the above elements in the list ... ?"
   ]
  },
  {
   "cell_type": "code",
   "execution_count": null,
   "id": "4faf8176",
   "metadata": {},
   "outputs": [],
   "source": []
  },
  {
   "cell_type": "code",
   "execution_count": null,
   "id": "ee4c4b2a",
   "metadata": {},
   "outputs": [],
   "source": [
    "introduction to indexing : 0,1,2 .... ?"
   ]
  },
  {
   "cell_type": "code",
   "execution_count": null,
   "id": "768d4750",
   "metadata": {},
   "outputs": [],
   "source": [
    "# i want to access sandeep name from the above list .... ?"
   ]
  },
  {
   "cell_type": "code",
   "execution_count": 9,
   "id": "ddd8575b",
   "metadata": {},
   "outputs": [
    {
     "name": "stdout",
     "output_type": "stream",
     "text": [
      "sandeep\n"
     ]
    }
   ],
   "source": [
    "print(students[1])"
   ]
  },
  {
   "cell_type": "code",
   "execution_count": 10,
   "id": "437032b4",
   "metadata": {},
   "outputs": [
    {
     "name": "stdout",
     "output_type": "stream",
     "text": [
      "Sandeep\n"
     ]
    }
   ],
   "source": [
    "print(students[1].title())"
   ]
  },
  {
   "cell_type": "code",
   "execution_count": null,
   "id": "0d75a4af",
   "metadata": {},
   "outputs": [],
   "source": [
    "# I want to access sanuba name form the above list … ?"
   ]
  },
  {
   "cell_type": "code",
   "execution_count": 12,
   "id": "b8782426",
   "metadata": {},
   "outputs": [
    {
     "name": "stdout",
     "output_type": "stream",
     "text": [
      "sanuba\n"
     ]
    }
   ],
   "source": [
    "print(students[3])"
   ]
  },
  {
   "cell_type": "code",
   "execution_count": 13,
   "id": "e19da20e",
   "metadata": {},
   "outputs": [
    {
     "name": "stdout",
     "output_type": "stream",
     "text": [
      "Sanuba\n"
     ]
    }
   ],
   "source": [
    "print(students[3].title())"
   ]
  },
  {
   "cell_type": "code",
   "execution_count": null,
   "id": "08333050",
   "metadata": {},
   "outputs": [],
   "source": [
    "How to add new elements to the list datatype\n",
    "How to modify to the list datatype\n",
    "How to delete the elements from the list datatype"
   ]
  },
  {
   "cell_type": "code",
   "execution_count": null,
   "id": "5d15c8eb",
   "metadata": {},
   "outputs": [],
   "source": [
    "#req : i want to add naveen name to the above list … ?"
   ]
  },
  {
   "cell_type": "code",
   "execution_count": 16,
   "id": "869393ad",
   "metadata": {},
   "outputs": [],
   "source": [
    "students.append('naveen')"
   ]
  },
  {
   "cell_type": "code",
   "execution_count": 17,
   "id": "6e032206",
   "metadata": {},
   "outputs": [
    {
     "name": "stdout",
     "output_type": "stream",
     "text": [
      "['harish', 'sandeep', 'rasika', 'sanuba', 'pavitra', 'nusrat', 'naveen']\n"
     ]
    }
   ],
   "source": [
    "print(students)"
   ]
  },
  {
   "cell_type": "code",
   "execution_count": null,
   "id": "5a591425",
   "metadata": {},
   "outputs": [],
   "source": [
    "#req : i want to add sachin name to the above list … ?"
   ]
  },
  {
   "cell_type": "code",
   "execution_count": 18,
   "id": "2bf62cd1",
   "metadata": {},
   "outputs": [],
   "source": [
    "students.append('sachin')"
   ]
  },
  {
   "cell_type": "code",
   "execution_count": 19,
   "id": "da8f6852",
   "metadata": {},
   "outputs": [
    {
     "name": "stdout",
     "output_type": "stream",
     "text": [
      "['harish', 'sandeep', 'rasika', 'sanuba', 'pavitra', 'nusrat', 'naveen', 'sachin']\n"
     ]
    }
   ],
   "source": [
    "print(students)"
   ]
  },
  {
   "cell_type": "code",
   "execution_count": null,
   "id": "cceaddc3",
   "metadata": {},
   "outputs": [],
   "source": [
    "#req : i want to add zaid to the above list in the 2nd index ?"
   ]
  },
  {
   "cell_type": "code",
   "execution_count": 20,
   "id": "1696daf4",
   "metadata": {},
   "outputs": [],
   "source": [
    "students.insert(2,'zaid')"
   ]
  },
  {
   "cell_type": "code",
   "execution_count": 21,
   "id": "175c6214",
   "metadata": {},
   "outputs": [
    {
     "name": "stdout",
     "output_type": "stream",
     "text": [
      "['harish', 'sandeep', 'zaid', 'rasika', 'sanuba', 'pavitra', 'nusrat', 'naveen', 'sachin']\n"
     ]
    }
   ],
   "source": [
    "print(students)"
   ]
  },
  {
   "cell_type": "code",
   "execution_count": 22,
   "id": "8bcac703",
   "metadata": {},
   "outputs": [
    {
     "name": "stdout",
     "output_type": "stream",
     "text": [
      "zaid\n"
     ]
    }
   ],
   "source": [
    "print(students[2])"
   ]
  },
  {
   "cell_type": "code",
   "execution_count": 24,
   "id": "e7d8ac61",
   "metadata": {},
   "outputs": [
    {
     "name": "stdout",
     "output_type": "stream",
     "text": [
      "Zaid\n"
     ]
    }
   ],
   "source": [
    "print(students[2].title())"
   ]
  },
  {
   "cell_type": "code",
   "execution_count": null,
   "id": "0141d7ea",
   "metadata": {},
   "outputs": [],
   "source": [
    "interview question : what is the difference between an append and insert method in a list datatype …. ?"
   ]
  },
  {
   "cell_type": "code",
   "execution_count": null,
   "id": "1908be02",
   "metadata": {},
   "outputs": [],
   "source": [
    "how to modify the elements to the list datatype"
   ]
  },
  {
   "cell_type": "code",
   "execution_count": 25,
   "id": "0563c32d",
   "metadata": {},
   "outputs": [
    {
     "name": "stdout",
     "output_type": "stream",
     "text": [
      "['harish', 'sandeep', 'zaid', 'rasika', 'sanuba', 'pavitra', 'nusrat', 'naveen', 'sachin']\n"
     ]
    }
   ],
   "source": [
    "print(students)"
   ]
  },
  {
   "cell_type": "code",
   "execution_count": null,
   "id": "3c4e8f6c",
   "metadata": {},
   "outputs": [],
   "source": [
    "#req : I want to modify sandeep name to Srikanth"
   ]
  },
  {
   "cell_type": "code",
   "execution_count": 27,
   "id": "893267b4",
   "metadata": {},
   "outputs": [],
   "source": [
    "students[1] = 'srikanth'"
   ]
  },
  {
   "cell_type": "code",
   "execution_count": 28,
   "id": "fd04c62a",
   "metadata": {},
   "outputs": [
    {
     "name": "stdout",
     "output_type": "stream",
     "text": [
      "['harish', 'srikanth', 'zaid', 'rasika', 'sanuba', 'pavitra', 'nusrat', 'naveen', 'sachin']\n"
     ]
    }
   ],
   "source": [
    "print(students)"
   ]
  },
  {
   "cell_type": "code",
   "execution_count": null,
   "id": "2a29a38f",
   "metadata": {},
   "outputs": [],
   "source": [
    "How to delete the elements …. ?"
   ]
  },
  {
   "cell_type": "code",
   "execution_count": null,
   "id": "8cea9f23",
   "metadata": {},
   "outputs": [],
   "source": [
    "# req : i want to delete rasika’s name from the above list …. ?"
   ]
  },
  {
   "cell_type": "code",
   "execution_count": 29,
   "id": "44230d31",
   "metadata": {},
   "outputs": [],
   "source": [
    "del students[3]   # permanent delete."
   ]
  },
  {
   "cell_type": "code",
   "execution_count": 30,
   "id": "adc631e9",
   "metadata": {},
   "outputs": [
    {
     "name": "stdout",
     "output_type": "stream",
     "text": [
      "['harish', 'srikanth', 'zaid', 'sanuba', 'pavitra', 'nusrat', 'naveen', 'sachin']\n"
     ]
    }
   ],
   "source": [
    "print(students)"
   ]
  },
  {
   "cell_type": "code",
   "execution_count": null,
   "id": "1e7eef4d",
   "metadata": {},
   "outputs": [],
   "source": [
    "#temp deleting — pop method"
   ]
  },
  {
   "cell_type": "code",
   "execution_count": null,
   "id": "0fe345df",
   "metadata": {},
   "outputs": [],
   "source": [
    "pop by default it will be deleting the last element of the list and will be creating a carbon copy of the deleted items to the variable assigned to it."
   ]
  },
  {
   "cell_type": "code",
   "execution_count": 31,
   "id": "b51fbbea",
   "metadata": {},
   "outputs": [],
   "source": [
    "x = students.pop()"
   ]
  },
  {
   "cell_type": "code",
   "execution_count": 32,
   "id": "4d7dbef9",
   "metadata": {},
   "outputs": [
    {
     "name": "stdout",
     "output_type": "stream",
     "text": [
      "['harish', 'srikanth', 'zaid', 'sanuba', 'pavitra', 'nusrat', 'naveen']\n"
     ]
    }
   ],
   "source": [
    "print(students)"
   ]
  },
  {
   "cell_type": "code",
   "execution_count": 33,
   "id": "922d9d46",
   "metadata": {},
   "outputs": [
    {
     "name": "stdout",
     "output_type": "stream",
     "text": [
      "sachin\n"
     ]
    }
   ],
   "source": [
    "print(x)"
   ]
  },
  {
   "cell_type": "code",
   "execution_count": null,
   "id": "55075dda",
   "metadata": {},
   "outputs": [],
   "source": [
    "Interview question : what is the difference between delete and pop method in a list."
   ]
  },
  {
   "cell_type": "code",
   "execution_count": null,
   "id": "11e2fc8e",
   "metadata": {},
   "outputs": [],
   "source": []
  }
 ],
 "metadata": {
  "kernelspec": {
   "display_name": "Python 3 (ipykernel)",
   "language": "python",
   "name": "python3"
  },
  "language_info": {
   "codemirror_mode": {
    "name": "ipython",
    "version": 3
   },
   "file_extension": ".py",
   "mimetype": "text/x-python",
   "name": "python",
   "nbconvert_exporter": "python",
   "pygments_lexer": "ipython3",
   "version": "3.9.12"
  }
 },
 "nbformat": 4,
 "nbformat_minor": 5
}
