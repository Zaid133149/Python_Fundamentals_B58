{
 "cells": [
  {
   "cell_type": "code",
   "execution_count": null,
   "id": "1ddbf712",
   "metadata": {},
   "outputs": [],
   "source": [
    "Introduction to dictionaries :"
   ]
  },
  {
   "cell_type": "code",
   "execution_count": null,
   "id": "f4e3db9e",
   "metadata": {},
   "outputs": [],
   "source": [
    "Definition : A dict is a combination of key value pairs\n",
    "Classification : it is classified as mutable datatype\n",
    "How to define or declare a dictionary ====>   {}\n",
    "Shortform : dict"
   ]
  },
  {
   "cell_type": "code",
   "execution_count": null,
   "id": "615ae9ab",
   "metadata": {},
   "outputs": [],
   "source": [
    "Note : extremely for the interview point of view as and also very extensively utilised datatype among all other data types"
   ]
  },
  {
   "cell_type": "code",
   "execution_count": null,
   "id": "aff8cfb7",
   "metadata": {},
   "outputs": [],
   "source": []
  },
  {
   "cell_type": "code",
   "execution_count": 3,
   "id": "ce349efa",
   "metadata": {},
   "outputs": [
    {
     "name": "stdout",
     "output_type": "stream",
     "text": [
      "{'color': 'green', 'points': 5}\n"
     ]
    }
   ],
   "source": [
    "alien = {'color':'green','points':5}\n",
    "print(alien)"
   ]
  },
  {
   "cell_type": "code",
   "execution_count": 4,
   "id": "e1658069",
   "metadata": {},
   "outputs": [
    {
     "data": {
      "text/plain": [
       "dict"
      ]
     },
     "execution_count": 4,
     "metadata": {},
     "output_type": "execute_result"
    }
   ],
   "source": [
    "type(alien)"
   ]
  },
  {
   "cell_type": "code",
   "execution_count": null,
   "id": "7e973621",
   "metadata": {},
   "outputs": [],
   "source": [
    "#how to access the key value pairs in a dict?"
   ]
  },
  {
   "cell_type": "code",
   "execution_count": null,
   "id": "954449c7",
   "metadata": {},
   "outputs": [],
   "source": [
    "# i want to know the color of the alien … ?"
   ]
  },
  {
   "cell_type": "code",
   "execution_count": 6,
   "id": "1b7faffa",
   "metadata": {},
   "outputs": [
    {
     "name": "stdout",
     "output_type": "stream",
     "text": [
      "green\n"
     ]
    }
   ],
   "source": [
    "print(alien['color'])"
   ]
  },
  {
   "cell_type": "code",
   "execution_count": 7,
   "id": "e63e577b",
   "metadata": {},
   "outputs": [
    {
     "name": "stdout",
     "output_type": "stream",
     "text": [
      "5\n"
     ]
    }
   ],
   "source": [
    "print(alien['points'])"
   ]
  },
  {
   "cell_type": "code",
   "execution_count": null,
   "id": "b4ee2fd9",
   "metadata": {},
   "outputs": [],
   "source": [
    "# can we give the value and get the key … ? NO"
   ]
  },
  {
   "cell_type": "code",
   "execution_count": 8,
   "id": "07f6a125",
   "metadata": {},
   "outputs": [
    {
     "ename": "KeyError",
     "evalue": "'green'",
     "output_type": "error",
     "traceback": [
      "\u001b[1;31m---------------------------------------------------------------------------\u001b[0m",
      "\u001b[1;31mKeyError\u001b[0m                                  Traceback (most recent call last)",
      "Input \u001b[1;32mIn [8]\u001b[0m, in \u001b[0;36m<cell line: 1>\u001b[1;34m()\u001b[0m\n\u001b[1;32m----> 1\u001b[0m \u001b[38;5;28mprint\u001b[39m(\u001b[43malien\u001b[49m\u001b[43m[\u001b[49m\u001b[38;5;124;43m'\u001b[39;49m\u001b[38;5;124;43mgreen\u001b[39;49m\u001b[38;5;124;43m'\u001b[39;49m\u001b[43m]\u001b[49m)\n",
      "\u001b[1;31mKeyError\u001b[0m: 'green'"
     ]
    }
   ],
   "source": [
    "print(alien['green'])"
   ]
  },
  {
   "cell_type": "code",
   "execution_count": null,
   "id": "8aedabc4",
   "metadata": {},
   "outputs": [],
   "source": [
    "# req : how to add new key value pairs to the dictionary …. ?"
   ]
  },
  {
   "cell_type": "code",
   "execution_count": 9,
   "id": "0f842fac",
   "metadata": {},
   "outputs": [
    {
     "name": "stdout",
     "output_type": "stream",
     "text": [
      "{'color': 'green', 'points': 5}\n"
     ]
    }
   ],
   "source": [
    "print(alien)"
   ]
  },
  {
   "cell_type": "code",
   "execution_count": null,
   "id": "4c5b9e0b",
   "metadata": {},
   "outputs": [],
   "source": [
    "#req : to add start_postion :0"
   ]
  },
  {
   "cell_type": "code",
   "execution_count": 10,
   "id": "a1a31dd6",
   "metadata": {},
   "outputs": [],
   "source": [
    "alien['start_position'] = 0"
   ]
  },
  {
   "cell_type": "code",
   "execution_count": 11,
   "id": "0edbeb49",
   "metadata": {},
   "outputs": [
    {
     "name": "stdout",
     "output_type": "stream",
     "text": [
      "{'color': 'green', 'points': 5, 'start_position': 0}\n"
     ]
    }
   ],
   "source": [
    "print(alien)"
   ]
  },
  {
   "cell_type": "code",
   "execution_count": null,
   "id": "a9372064",
   "metadata": {},
   "outputs": [],
   "source": [
    "# req : to change the color to yellow … ?"
   ]
  },
  {
   "cell_type": "code",
   "execution_count": 12,
   "id": "77f61c81",
   "metadata": {},
   "outputs": [],
   "source": [
    "alien['color'] = 'yellow'\n"
   ]
  },
  {
   "cell_type": "code",
   "execution_count": 13,
   "id": "f7111bd1",
   "metadata": {},
   "outputs": [
    {
     "name": "stdout",
     "output_type": "stream",
     "text": [
      "{'color': 'yellow', 'points': 5, 'start_position': 0}\n"
     ]
    }
   ],
   "source": [
    "print(alien)"
   ]
  },
  {
   "cell_type": "code",
   "execution_count": null,
   "id": "a5800001",
   "metadata": {},
   "outputs": [],
   "source": [
    "# how to delete the key value pairs"
   ]
  },
  {
   "cell_type": "code",
   "execution_count": null,
   "id": "476e5308",
   "metadata": {},
   "outputs": [],
   "source": [
    "# req: y-to delete the points"
   ]
  },
  {
   "cell_type": "code",
   "execution_count": 15,
   "id": "cd96e2f8",
   "metadata": {},
   "outputs": [],
   "source": [
    "del alien['points']"
   ]
  },
  {
   "cell_type": "code",
   "execution_count": 16,
   "id": "818b73cf",
   "metadata": {},
   "outputs": [
    {
     "name": "stdout",
     "output_type": "stream",
     "text": [
      "{'color': 'yellow', 'start_position': 0}\n"
     ]
    }
   ],
   "source": [
    "print(alien)"
   ]
  },
  {
   "cell_type": "code",
   "execution_count": null,
   "id": "8381a8b2",
   "metadata": {},
   "outputs": [],
   "source": [
    "#req : create an account in instagram :"
   ]
  },
  {
   "cell_type": "code",
   "execution_count": 19,
   "id": "dbbb8798",
   "metadata": {},
   "outputs": [],
   "source": [
    "useraccount = {'username':'codetrainingacademy','firstname':'code','lastname':'training','dob':'01-01-2020','pwd':'12345'}"
   ]
  },
  {
   "cell_type": "code",
   "execution_count": 22,
   "id": "2256ae51",
   "metadata": {},
   "outputs": [
    {
     "name": "stdout",
     "output_type": "stream",
     "text": [
      "{'username': 'codetrainingacademy', 'firstname': 'code', 'lastname': 'training', 'dob': '01-01-2020', 'pwd': '12345'}\n"
     ]
    }
   ],
   "source": [
    "print(useraccount)"
   ]
  },
  {
   "cell_type": "code",
   "execution_count": 24,
   "id": "242233bb",
   "metadata": {},
   "outputs": [],
   "source": [
    "useraccount['status_update'] = 'farzi cafe'"
   ]
  },
  {
   "cell_type": "code",
   "execution_count": 25,
   "id": "2d384441",
   "metadata": {},
   "outputs": [
    {
     "name": "stdout",
     "output_type": "stream",
     "text": [
      "{'username': 'codetrainingacademy', 'firstname': 'code', 'lastname': 'training', 'dob': '01-01-2020', 'pwd': '12345', 'status_update': 'farzi cafe'}\n"
     ]
    }
   ],
   "source": [
    "print(useraccount)"
   ]
  },
  {
   "cell_type": "code",
   "execution_count": null,
   "id": "1fbc4e5b",
   "metadata": {},
   "outputs": [],
   "source": [
    "Implementation of for loop on top of a dictionary :"
   ]
  },
  {
   "cell_type": "code",
   "execution_count": null,
   "id": "4bb855c4",
   "metadata": {},
   "outputs": [],
   "source": []
  },
  {
   "cell_type": "code",
   "execution_count": null,
   "id": "e40aebdd",
   "metadata": {},
   "outputs": [],
   "source": []
  },
  {
   "cell_type": "code",
   "execution_count": null,
   "id": "d0aaeef4",
   "metadata": {},
   "outputs": [],
   "source": []
  },
  {
   "cell_type": "code",
   "execution_count": null,
   "id": "bed46dc1",
   "metadata": {},
   "outputs": [],
   "source": []
  }
 ],
 "metadata": {
  "kernelspec": {
   "display_name": "Python 3 (ipykernel)",
   "language": "python",
   "name": "python3"
  },
  "language_info": {
   "codemirror_mode": {
    "name": "ipython",
    "version": 3
   },
   "file_extension": ".py",
   "mimetype": "text/x-python",
   "name": "python",
   "nbconvert_exporter": "python",
   "pygments_lexer": "ipython3",
   "version": "3.9.12"
  }
 },
 "nbformat": 4,
 "nbformat_minor": 5
}
