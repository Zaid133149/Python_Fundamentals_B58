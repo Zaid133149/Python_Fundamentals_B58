{
 "cells": [
  {
   "cell_type": "code",
   "execution_count": 2,
   "id": "4bf9a58f",
   "metadata": {},
   "outputs": [
    {
     "data": {
      "text/plain": [
       "'Hello all welcome to the Python programming world'"
      ]
     },
     "execution_count": 2,
     "metadata": {},
     "output_type": "execute_result"
    }
   ],
   "source": [
    "(\"Hello all welcome to the Python programming world\")"
   ]
  },
  {
   "cell_type": "code",
   "execution_count": null,
   "id": "58a7bd54",
   "metadata": {},
   "outputs": [],
   "source": []
  }
 ],
 "metadata": {
  "kernelspec": {
   "display_name": "Python 3 (ipykernel)",
   "language": "python",
   "name": "python3"
  },
  "language_info": {
   "codemirror_mode": {
    "name": "ipython",
    "version": 3
   },
   "file_extension": ".py",
   "mimetype": "text/x-python",
   "name": "python",
   "nbconvert_exporter": "python",
   "pygments_lexer": "ipython3",
   "version": "3.9.12"
  }
 },
 "nbformat": 4,
 "nbformat_minor": 5
}
