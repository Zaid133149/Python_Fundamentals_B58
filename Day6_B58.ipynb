{
 "cells": [
  {
   "cell_type": "code",
   "execution_count": null,
   "id": "6d57c43e",
   "metadata": {},
   "outputs": [],
   "source": [
    "introduction to looping statements :"
   ]
  },
  {
   "cell_type": "code",
   "execution_count": 15,
   "id": "98c820fb",
   "metadata": {},
   "outputs": [],
   "source": [
    "students = ['kartik','naveen','faisal','hameed','laiba','pavithra']"
   ]
  },
  {
   "cell_type": "code",
   "execution_count": 16,
   "id": "674e7dea",
   "metadata": {},
   "outputs": [
    {
     "data": {
      "text/plain": [
       "list"
      ]
     },
     "execution_count": 16,
     "metadata": {},
     "output_type": "execute_result"
    }
   ],
   "source": [
    "type(students)"
   ]
  },
  {
   "cell_type": "code",
   "execution_count": null,
   "id": "d68a677d",
   "metadata": {},
   "outputs": [],
   "source": [
    "# I want to appreciate the students …"
   ]
  },
  {
   "cell_type": "code",
   "execution_count": 21,
   "id": "38fabf42",
   "metadata": {},
   "outputs": [
    {
     "name": "stdout",
     "output_type": "stream",
     "text": [
      "keep up the good work, Kartik\n"
     ]
    }
   ],
   "source": [
    "message = f\"keep up the good work, {students[0].title()}\"\n",
    "print(message)"
   ]
  },
  {
   "cell_type": "code",
   "execution_count": 22,
   "id": "dc000e0a",
   "metadata": {},
   "outputs": [
    {
     "name": "stdout",
     "output_type": "stream",
     "text": [
      "keep up the good work, Naveen\n"
     ]
    }
   ],
   "source": [
    "message = f\"keep up the good work, {students[1].title()}\"\n",
    "print(message)"
   ]
  },
  {
   "cell_type": "code",
   "execution_count": 23,
   "id": "1459b67b",
   "metadata": {},
   "outputs": [
    {
     "name": "stdout",
     "output_type": "stream",
     "text": [
      "keep up the good work, Faisal\n"
     ]
    }
   ],
   "source": [
    "message = f\"keep up the good work, {students[2].title()}\"\n",
    "print(message)"
   ]
  },
  {
   "cell_type": "code",
   "execution_count": null,
   "id": "88f475ff",
   "metadata": {},
   "outputs": [],
   "source": []
  },
  {
   "cell_type": "code",
   "execution_count": null,
   "id": "0c6c8340",
   "metadata": {},
   "outputs": [],
   "source": [
    "General syntax of a for loop :"
   ]
  },
  {
   "cell_type": "code",
   "execution_count": null,
   "id": "10f4163c",
   "metadata": {},
   "outputs": [],
   "source": [
    "# formula of for loop :\n",
    "for tempvar in mainvar:\n",
    "    print(tempvar)"
   ]
  },
  {
   "cell_type": "code",
   "execution_count": 25,
   "id": "08059c09",
   "metadata": {},
   "outputs": [
    {
     "name": "stdout",
     "output_type": "stream",
     "text": [
      "keep up the good work, Kartik\n",
      "keep up the good work, Naveen\n",
      "keep up the good work, Faisal\n",
      "keep up the good work, Hameed\n",
      "keep up the good work, Laiba\n",
      "keep up the good work, Pavithra\n"
     ]
    }
   ],
   "source": [
    "for x in students:\n",
    "    print(f\"keep up the good work, {x.title()}\")"
   ]
  },
  {
   "cell_type": "code",
   "execution_count": 26,
   "id": "3eded54f",
   "metadata": {},
   "outputs": [
    {
     "name": "stdout",
     "output_type": "stream",
     "text": [
      "kartik\n",
      "naveen\n",
      "faisal\n",
      "hameed\n",
      "laiba\n",
      "pavithra\n"
     ]
    }
   ],
   "source": [
    "for a in students:   # indentation\n",
    "    print(a)"
   ]
  },
  {
   "cell_type": "code",
   "execution_count": 27,
   "id": "e65a5592",
   "metadata": {},
   "outputs": [
    {
     "ename": "IndentationError",
     "evalue": "expected an indented block (316525693.py, line 2)",
     "output_type": "error",
     "traceback": [
      "\u001b[1;36m  Input \u001b[1;32mIn [27]\u001b[1;36m\u001b[0m\n\u001b[1;33m    print(a)\u001b[0m\n\u001b[1;37m    ^\u001b[0m\n\u001b[1;31mIndentationError\u001b[0m\u001b[1;31m:\u001b[0m expected an indented block\n"
     ]
    }
   ],
   "source": [
    "for a in students:   # indentation\n",
    "print(a)"
   ]
  },
  {
   "cell_type": "code",
   "execution_count": null,
   "id": "732df016",
   "metadata": {},
   "outputs": [],
   "source": [
    "# req : looking forward for todays github practise URL"
   ]
  },
  {
   "cell_type": "code",
   "execution_count": 35,
   "id": "c48979ee",
   "metadata": {},
   "outputs": [
    {
     "name": "stdout",
     "output_type": "stream",
     "text": [
      "keep up the good work, Kartik\n",
      "looking forward for todays github practise URL, Kartik\n",
      "keep up the good work, Naveen\n",
      "looking forward for todays github practise URL, Naveen\n",
      "keep up the good work, Faisal\n",
      "looking forward for todays github practise URL, Faisal\n",
      "keep up the good work, Hameed\n",
      "looking forward for todays github practise URL, Hameed\n",
      "keep up the good work, Laiba\n",
      "looking forward for todays github practise URL, Laiba\n",
      "keep up the good work, Pavithra\n",
      "looking forward for todays github practise URL, Pavithra\n"
     ]
    }
   ],
   "source": [
    "for x in students:\n",
    "    print(f\"keep up the good work, {x.title()}\")\n",
    "    print(f\"looking forward for todays github practise URL, {x.title()}\")"
   ]
  },
  {
   "cell_type": "code",
   "execution_count": 36,
   "id": "60b1257a",
   "metadata": {},
   "outputs": [
    {
     "name": "stdout",
     "output_type": "stream",
     "text": [
      "keep up the good work, Kartik\n",
      "looking forward for todays github practise URL, Kartik\n",
      "\n",
      "keep up the good work, Naveen\n",
      "looking forward for todays github practise URL, Naveen\n",
      "\n",
      "keep up the good work, Faisal\n",
      "looking forward for todays github practise URL, Faisal\n",
      "\n",
      "keep up the good work, Hameed\n",
      "looking forward for todays github practise URL, Hameed\n",
      "\n",
      "keep up the good work, Laiba\n",
      "looking forward for todays github practise URL, Laiba\n",
      "\n",
      "keep up the good work, Pavithra\n",
      "looking forward for todays github practise URL, Pavithra\n",
      "\n"
     ]
    }
   ],
   "source": [
    "for x in students:\n",
    "    print(f\"keep up the good work, {x.title()}\")\n",
    "    print(f\"looking forward for todays github practise URL, {x.title()}\\n\")    # \\n ====> new line delimiter\n"
   ]
  },
  {
   "cell_type": "code",
   "execution_count": 37,
   "id": "1ab9b74a",
   "metadata": {},
   "outputs": [
    {
     "name": "stdout",
     "output_type": "stream",
     "text": [
      "keep up the good work, Kartik\n",
      "looking forward for todays github practise URL, Kartik\n",
      "\n",
      "keep up the good work, Naveen\n",
      "looking forward for todays github practise URL, Naveen\n",
      "\n",
      "keep up the good work, Faisal\n",
      "looking forward for todays github practise URL, Faisal\n",
      "\n",
      "keep up the good work, Hameed\n",
      "looking forward for todays github practise URL, Hameed\n",
      "\n",
      "keep up the good work, Laiba\n",
      "looking forward for todays github practise URL, Laiba\n",
      "\n",
      "keep up the good work, Pavithra\n",
      "looking forward for todays github practise URL, Pavithra\n",
      "\n",
      "Thank you all for joining in the session\n"
     ]
    }
   ],
   "source": [
    "for x in students:\n",
    "    print(f\"keep up the good work, {x.title()}\")\n",
    "    print(f\"looking forward for todays github practise URL, {x.title()}\\n\") \n",
    "    \n",
    "print(\"Thank you all for joining in the session\")"
   ]
  },
  {
   "cell_type": "code",
   "execution_count": null,
   "id": "0fbb56a2",
   "metadata": {},
   "outputs": [],
   "source": []
  },
  {
   "cell_type": "code",
   "execution_count": null,
   "id": "68d400fd",
   "metadata": {},
   "outputs": [],
   "source": []
  },
  {
   "cell_type": "code",
   "execution_count": null,
   "id": "a2cfe4f9",
   "metadata": {},
   "outputs": [],
   "source": []
  },
  {
   "cell_type": "code",
   "execution_count": null,
   "id": "77539797",
   "metadata": {},
   "outputs": [],
   "source": []
  },
  {
   "cell_type": "code",
   "execution_count": null,
   "id": "00e8ed6e",
   "metadata": {},
   "outputs": [],
   "source": []
  },
  {
   "cell_type": "code",
   "execution_count": null,
   "id": "603aa50f",
   "metadata": {},
   "outputs": [],
   "source": []
  },
  {
   "cell_type": "code",
   "execution_count": null,
   "id": "6f04a97c",
   "metadata": {},
   "outputs": [],
   "source": []
  },
  {
   "cell_type": "code",
   "execution_count": null,
   "id": "334f670a",
   "metadata": {},
   "outputs": [],
   "source": []
  }
 ],
 "metadata": {
  "kernelspec": {
   "display_name": "Python 3 (ipykernel)",
   "language": "python",
   "name": "python3"
  },
  "language_info": {
   "codemirror_mode": {
    "name": "ipython",
    "version": 3
   },
   "file_extension": ".py",
   "mimetype": "text/x-python",
   "name": "python",
   "nbconvert_exporter": "python",
   "pygments_lexer": "ipython3",
   "version": "3.9.12"
  }
 },
 "nbformat": 4,
 "nbformat_minor": 5
}
